{
  "nbformat": 4,
  "nbformat_minor": 0,
  "metadata": {
    "colab": {
      "provenance": [],
      "include_colab_link": true
    },
    "kernelspec": {
      "name": "python3",
      "display_name": "Python 3"
    },
    "language_info": {
      "name": "python"
    }
  },
  "cells": [
    {
      "cell_type": "markdown",
      "metadata": {
        "id": "view-in-github",
        "colab_type": "text"
      },
      "source": [
        "<a href=\"https://colab.research.google.com/github/ReidelVichot/FreemanArtsPavilion/blob/main/Performers_and_location.ipynb\" target=\"_parent\"><img src=\"https://colab.research.google.com/assets/colab-badge.svg\" alt=\"Open In Colab\"/></a>"
      ]
    },
    {
      "cell_type": "code",
      "execution_count": null,
      "metadata": {
        "id": "7vDmd9EhUNgR"
      },
      "outputs": [],
      "source": [
        "#Date Performer Delaware\n",
        "05/25/22 - Business After Hours \t#Cleveland Ohio?\n",
        "\n",
        "06/01/22 - Go Go Gadget, No\t#PA #https://gogogadjet.com/\n",
        "06/02/22 - Great DuBois, No #FL #https://www.bicoastalproductions.com/contact-1\t\t\n",
        "06/03/22 - KC & the Sunshine Band #FL #https://www.heykcsb.com/\t\t\n",
        "06/04/22 - Mid-Atlantic Orchestra #MD #https://midatlanticsymphony.org/\t\t\n",
        "06/10/22 - Wood Brothers and Guster #CA #https://www.thewoodbros.com/#home-section \t\t\n",
        "06/11/22 - The Fab Four #CA #https://thefabfour.com/\n",
        "06/16/22 - Choir [Choir! Choir! Choir!]\t#Canada #https://secure.freemanarts.org/777?queueittoken=e_publiconsale052622~q_00000000-0000-0000-0000-000000000000~ts_1671139067~ce_true~rt_afterevent~h_5e24fc02cda6d0d8197ca5cd980e33f012d0b9e585d19b3765023066f68d88e5\t\n",
        "06/17/22 - Bruce in the USA #NV\t#https://www.bruceintheusa.com/contact/\t\n",
        "06/18/22 - Cole Swindell #Several places #https://www.coleswindell.com/ \t\t\n",
        "06/21/22 - Lake Street Dive\t#NY #https://www.lakestreetdive.com/ \t\n",
        "06/22/22 - Patti LaBelle #PA #https://www.pattilabelle.com/\t\t\n",
        "06/23/22 - Resistance Revival Chorus #NY #https://www.resistancerevivalchorus.com/\t\t\n",
        "06/24/22 - Bonnie Raitt #CA #https://www.bonnieraitt.com/ \t\t\n",
        "06/25/22 - Wynton Marsalis #NY #https://wyntonmarsalis.org/\t\t\n",
        "06/26/22 - Rebelution #CA #https://rebelutionmusic.com/\n",
        "07/01/22 - EagleMania #NJ #https://eaglemaniaband.com/\t\n",
        "07/02/22 - 287th Army Band #DE #https://www.de.ng.mil/Portals/41/287th%20Army%20Band%20Request%20Form_1.pdf\t\t\n",
        "07/06/22 - Pat Benatar & Neil Giraldo #NY #https://www.benatargiraldo.com/welcome\t\t\n",
        "07/07/22 - 9-5 Clear Space Theatre Co\t#DE #https://www.clearspacetheatre.org/shows/9-to-5/\t\n",
        "07/08/22 - Summer of Love\t#NJ #http://www.summerofloveconcert.com/contact\t\n",
        "07/09/22 - Yacht Rock #CA\t#https://www.yachtrockrevue.com/\t\n",
        "07/10/22 - Umphreys McGee #IN #https://www.umphreys.com/\t\t\n",
        "07/13/22 - Killer Queen #England #https://www.killerqueenonline.com/\t\t\n",
        "07/14/22 - Chris Young  #TN\t#https://www.chrisyoungcountry.com/\t\n",
        "07/15/22 - Tusk Fleetwood Mac Tribute #NJ\t#https://fleetwoodmactribute.com/TUSK/contact-2/\t\n",
        "07/16/22 - Eric Dittleman #MA #https://www.ericdittelman.com/\t\t\n",
        "07/17/22 - Sheryl Crow #MO #https://sherylcrow.com/\t\n",
        "07/21/22 - T3 #NY\t\t\n",
        "07/22/22 - Little River Band #TN #https://reallittleriverband.com/\t\t\n",
        "07/23/22 - Jackson Browne #CA\t#https://www.jacksonbrowne.com/\t\n",
        "07/28/22 - Locals under the Lights #DE\t\t\n",
        "07/29/22 - Doo Wop Project #NJ #https://www.thedoowopproject.com/\t\t\n",
        "07/30/22 - ABBA\t#Sweden #https://atctheconcert.com/\t\n",
        "08/02/22 - Gina Chavez #TX #https://www.ginachavez.com/\t\t\n",
        "08/04/22 - Terrance Simien #LA #https://www.terrancesimien.com/\t\t\n",
        "08/05/22 - Nate Bargatze #TN #https://natebargatze.com/\t\t\n",
        "08/06/22 - Boz Scaggs #CA\t#https://www.bozscaggs.com/\t\n",
        "08/07/22 - Lyle Lovett #TX #https://www.lylelovett.com/\t\t\n",
        "08/09/22 - Andy Grammer #CA #https://andygrammer.com/\t\t\n",
        "08/10/22 - Green Sky Bluegrass #MI #https://greenskybluegrass.com/\t\t\n",
        "08/16/22 - Dark Star Orchestra #IL #https://www.darkstarorchestra.net/\t\t\n",
        "08/17/22 - Tartan Terrors #Canada #https://tartanterrors.com/\t\t\n",
        "08/19/22 - Elvis Costello\t#United Kingdom\t\n",
        "08/20/22 - Brothers Osborne\t#MD #https://www.brothersosborne.com/\t\n",
        "08/23/22 - Michael Franti & Spearhead\t#CA #https://michaelfranti.com/\t\n",
        "08/24/22 - Home Free Wednesday #MN\t#https://homefreemusic.com/pages/contact-us\t\n",
        "08/25/22 - Jason Isbel #AL #https://www.jasonisbell.com/\t\t\n",
        "08/26/22 - Arts & Jazz #DE\t\t\n",
        "08/27/22 - Face 2 Face #CA #https://facetofacemusic.com/\t\t\n",
        "08/28/22 - Original Wailers - Maxi Priest #United Kingdom\t#https://www.theoriginalwailers.com/\t\n",
        "09/01/22 - First State Ballet\t#DE\t\n",
        "09/02/22 - Il Divo #United Kingdom\t\t\n",
        "09/03/22 - Crowded House #Australia #https://www.crowdedhouse.com/\t\t\n",
        "09/09/22 - Brett Young #CA #https://www.brettyoungmusic.com/#/\t\t\n",
        "09/10/22 - John Fogerty #CA\t\t\n",
        "09/15/22 - Jake Owen #FL #https://www.jakeowen.net/\t\t\n",
        "09/16/22 - Floyd Nation\t#NJ #https://floydnation.live/home\t\n",
        "09/17/22 - UD Music Spectacular #DE"
      ]
    }
  ]
}