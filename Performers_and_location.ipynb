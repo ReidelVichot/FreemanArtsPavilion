{
  "nbformat": 4,
  "nbformat_minor": 0,
  "metadata": {
    "colab": {
      "provenance": [],
      "authorship_tag": "ABX9TyPx6QZRAE14rzpmT/Swlerz",
      "include_colab_link": true
    },
    "kernelspec": {
      "name": "python3",
      "display_name": "Python 3"
    },
    "language_info": {
      "name": "python"
    }
  },
  "cells": [
    {
      "cell_type": "markdown",
      "metadata": {
        "id": "view-in-github",
        "colab_type": "text"
      },
      "source": [
        "<a href=\"https://colab.research.google.com/github/ReidelVichot/FreemanArtsPavilion/blob/main/Performers_and_location.ipynb\" target=\"_parent\"><img src=\"https://colab.research.google.com/assets/colab-badge.svg\" alt=\"Open In Colab\"/></a>"
      ]
    },
    {
      "cell_type": "code",
      "execution_count": null,
      "metadata": {
        "id": "7vDmd9EhUNgR"
      },
      "outputs": [],
      "source": [
        "#Date Performer Delaware\n",
        "05/25/22 - Business After Hours \t#Cleveland Ohio?\n",
        "\n",
        "06/01/22 - Go Go Gadget, No\t#PA #https://gogogadjet.com/\n",
        "06/02/22 - Great DuBois, No #FL #https://www.bicoastalproductions.com/contact-1\t\t\n",
        "06/03/22 - KC & the Sunshine Band #FL #https://www.heykcsb.com/\t\t\n",
        "06/04/22 - Mid-Atlantic Orchestra #MD #https://midatlanticsymphony.org/\t\t\n",
        "06/10/22 - Wood Brothers and Guster #CA #https://www.thewoodbros.com/#home-section \t\t\n",
        "06/11/22 - The Fab Four #CA #https://thefabfour.com/\n",
        "06/16/22 - Choir [Choir! Choir! Choir!]\t#Canada #https://secure.freemanarts.org/777?queueittoken=e_publiconsale052622~q_00000000-0000-0000-0000-000000000000~ts_1671139067~ce_true~rt_afterevent~h_5e24fc02cda6d0d8197ca5cd980e33f012d0b9e585d19b3765023066f68d88e5\t\n",
        "06/17/22 - Bruce in the USA\t\t\n",
        "06/18/22 - Cole Swindell\t\t\n",
        "06/21/22 - Lake Street Dive\t\t\n",
        "06/22/22 - Patti LaBelle\t\t\n",
        "06/23/22 - Resistance Revival Chorus\t\t\n",
        "06/24/22 - Bonnie Raitt\t\t\n",
        "06/25/22 - Wynton Marsalis\t\t\n",
        "06/26/22 - Rebelution\t\t\n",
        "07/01/22 - EagleMania\t\t\n",
        "07/02/22 - 287th Army Band\t\t\n",
        "07/06/22 - Pat Benatar & Neil Giraldo\t\t\n",
        "07/07/22 - 9-5 Clear Space Theatre Co\t\t\n",
        "07/08/22 - Summer of Love\t\t\n",
        "07/09/22 - Yacht Rock\t\t\n",
        "07/10/22 - Umphrey's McGee\t\t\n",
        "07/13/22 - Killer Queen\t\t\n",
        "07/14/22 - Chris Young\t\t\n",
        "07/15/22 - Tusk Fleetwood Mac Tribute\t\t\n",
        "07/16/22 - Eric Dittleman\t\t\n",
        "07/17/22 - Sheryl Crow\t\t\n",
        "07/21/22 - T3\t\t\n",
        "07/22/22 - Little River Band\t\t\n",
        "07/23/22 - Jackson Browne\t\t\n",
        "07/28/22 - Locals under the Lights\t\t\n",
        "07/29/22 - Doo Wop Project\t\t\n",
        "07/30/22 - ABBA\t\t\n",
        "08/02/22 - Gina Chavez\t\t\n",
        "08/04/22 - Terrance Simien\t\t\n",
        "08/05/22 - Nate Bargatze\t\t\n",
        "08/06/22 - Boz Scaggs\t\t\n",
        "08/07/22 - Lyle Lovett\t\t\n",
        "08/09/22 - Andy Grammer\t\t\n",
        "08/10/22 - Green Sky Bluegrass\t\t\n",
        "08/16/22 - Dark Star Orchestra\t\t\n",
        "08/17/22 - Tartan Terrors\t\t\n",
        "08/19/22 - Elvis Costello\t\t\n",
        "08/20/22 - Brothers Osborne\t\t\n",
        "08/23/22 - Michael Franti & Spearhead\t\t\n",
        "08/24/22 - Home Free Wednesday\t\t\n",
        "08/25/22 - Jason Isbel\t\t\n",
        "08/26/22 - Arts & Jazz\t\t\n",
        "08/27/22 - Face 2 Face\t\t\n",
        "08/28/22 - Original Wailers - Maxi Priest\t\t\n",
        "09/01/22 - First State Ballet\t\t\n",
        "09/02/22 - Il Divo\t\t\n",
        "09/03/22 - Crowded House\t\t\n",
        "09/09/22 - Brett Young\t\t\n",
        "09/10/22 - John Fogerty\t\t\n",
        "09/15/22 - Jake Owen\t\t\n",
        "09/16/22 - Floyd Nation\t\t\n",
        "09/17/22 - UD Music Spectacular"
      ]
    }
  ]
}